{
 "cells": [
  {
   "cell_type": "code",
   "execution_count": 1,
   "metadata": {},
   "outputs": [],
   "source": [
    "import numpy as np\n",
    "import pandas as pd"
   ]
  },
  {
   "cell_type": "code",
   "execution_count": 2,
   "metadata": {},
   "outputs": [],
   "source": [
    "Data = pd.read_csv('https://raw.githubusercontent.com/Mieggy/face-gender-classify/main/gender_classification.csv')"
   ]
  },
  {
   "cell_type": "code",
   "execution_count": 3,
   "metadata": {},
   "outputs": [
    {
     "data": {
      "text/html": [
       "<div>\n",
       "<style scoped>\n",
       "    .dataframe tbody tr th:only-of-type {\n",
       "        vertical-align: middle;\n",
       "    }\n",
       "\n",
       "    .dataframe tbody tr th {\n",
       "        vertical-align: top;\n",
       "    }\n",
       "\n",
       "    .dataframe thead th {\n",
       "        text-align: right;\n",
       "    }\n",
       "</style>\n",
       "<table border=\"1\" class=\"dataframe\">\n",
       "  <thead>\n",
       "    <tr style=\"text-align: right;\">\n",
       "      <th></th>\n",
       "      <th>long_hair</th>\n",
       "      <th>forehead_width_cm</th>\n",
       "      <th>forehead_height_cm</th>\n",
       "      <th>nose_wide</th>\n",
       "      <th>nose_long</th>\n",
       "      <th>lips_thin</th>\n",
       "      <th>distance_nose_to_lip_long</th>\n",
       "      <th>gender</th>\n",
       "    </tr>\n",
       "  </thead>\n",
       "  <tbody>\n",
       "    <tr>\n",
       "      <th>0</th>\n",
       "      <td>1</td>\n",
       "      <td>11.8</td>\n",
       "      <td>6.1</td>\n",
       "      <td>1</td>\n",
       "      <td>0</td>\n",
       "      <td>1</td>\n",
       "      <td>1</td>\n",
       "      <td>1</td>\n",
       "    </tr>\n",
       "    <tr>\n",
       "      <th>1</th>\n",
       "      <td>0</td>\n",
       "      <td>14.0</td>\n",
       "      <td>5.4</td>\n",
       "      <td>0</td>\n",
       "      <td>0</td>\n",
       "      <td>1</td>\n",
       "      <td>0</td>\n",
       "      <td>-1</td>\n",
       "    </tr>\n",
       "    <tr>\n",
       "      <th>2</th>\n",
       "      <td>0</td>\n",
       "      <td>11.8</td>\n",
       "      <td>6.3</td>\n",
       "      <td>1</td>\n",
       "      <td>1</td>\n",
       "      <td>1</td>\n",
       "      <td>1</td>\n",
       "      <td>1</td>\n",
       "    </tr>\n",
       "    <tr>\n",
       "      <th>3</th>\n",
       "      <td>0</td>\n",
       "      <td>14.4</td>\n",
       "      <td>6.1</td>\n",
       "      <td>0</td>\n",
       "      <td>1</td>\n",
       "      <td>1</td>\n",
       "      <td>1</td>\n",
       "      <td>1</td>\n",
       "    </tr>\n",
       "    <tr>\n",
       "      <th>4</th>\n",
       "      <td>1</td>\n",
       "      <td>13.5</td>\n",
       "      <td>5.9</td>\n",
       "      <td>0</td>\n",
       "      <td>0</td>\n",
       "      <td>0</td>\n",
       "      <td>0</td>\n",
       "      <td>-1</td>\n",
       "    </tr>\n",
       "    <tr>\n",
       "      <th>...</th>\n",
       "      <td>...</td>\n",
       "      <td>...</td>\n",
       "      <td>...</td>\n",
       "      <td>...</td>\n",
       "      <td>...</td>\n",
       "      <td>...</td>\n",
       "      <td>...</td>\n",
       "      <td>...</td>\n",
       "    </tr>\n",
       "    <tr>\n",
       "      <th>4996</th>\n",
       "      <td>1</td>\n",
       "      <td>13.6</td>\n",
       "      <td>5.1</td>\n",
       "      <td>0</td>\n",
       "      <td>0</td>\n",
       "      <td>0</td>\n",
       "      <td>0</td>\n",
       "      <td>-1</td>\n",
       "    </tr>\n",
       "    <tr>\n",
       "      <th>4997</th>\n",
       "      <td>1</td>\n",
       "      <td>11.9</td>\n",
       "      <td>5.4</td>\n",
       "      <td>0</td>\n",
       "      <td>0</td>\n",
       "      <td>0</td>\n",
       "      <td>0</td>\n",
       "      <td>-1</td>\n",
       "    </tr>\n",
       "    <tr>\n",
       "      <th>4998</th>\n",
       "      <td>1</td>\n",
       "      <td>12.9</td>\n",
       "      <td>5.7</td>\n",
       "      <td>0</td>\n",
       "      <td>0</td>\n",
       "      <td>0</td>\n",
       "      <td>0</td>\n",
       "      <td>-1</td>\n",
       "    </tr>\n",
       "    <tr>\n",
       "      <th>4999</th>\n",
       "      <td>1</td>\n",
       "      <td>13.2</td>\n",
       "      <td>6.2</td>\n",
       "      <td>0</td>\n",
       "      <td>0</td>\n",
       "      <td>0</td>\n",
       "      <td>0</td>\n",
       "      <td>-1</td>\n",
       "    </tr>\n",
       "    <tr>\n",
       "      <th>5000</th>\n",
       "      <td>1</td>\n",
       "      <td>15.4</td>\n",
       "      <td>5.4</td>\n",
       "      <td>1</td>\n",
       "      <td>1</td>\n",
       "      <td>1</td>\n",
       "      <td>1</td>\n",
       "      <td>1</td>\n",
       "    </tr>\n",
       "  </tbody>\n",
       "</table>\n",
       "<p>5001 rows × 8 columns</p>\n",
       "</div>"
      ],
      "text/plain": [
       "      long_hair  forehead_width_cm  forehead_height_cm  nose_wide  nose_long  \\\n",
       "0             1               11.8                 6.1          1          0   \n",
       "1             0               14.0                 5.4          0          0   \n",
       "2             0               11.8                 6.3          1          1   \n",
       "3             0               14.4                 6.1          0          1   \n",
       "4             1               13.5                 5.9          0          0   \n",
       "...         ...                ...                 ...        ...        ...   \n",
       "4996          1               13.6                 5.1          0          0   \n",
       "4997          1               11.9                 5.4          0          0   \n",
       "4998          1               12.9                 5.7          0          0   \n",
       "4999          1               13.2                 6.2          0          0   \n",
       "5000          1               15.4                 5.4          1          1   \n",
       "\n",
       "      lips_thin  distance_nose_to_lip_long  gender  \n",
       "0             1                          1       1  \n",
       "1             1                          0      -1  \n",
       "2             1                          1       1  \n",
       "3             1                          1       1  \n",
       "4             0                          0      -1  \n",
       "...         ...                        ...     ...  \n",
       "4996          0                          0      -1  \n",
       "4997          0                          0      -1  \n",
       "4998          0                          0      -1  \n",
       "4999          0                          0      -1  \n",
       "5000          1                          1       1  \n",
       "\n",
       "[5001 rows x 8 columns]"
      ]
     },
     "execution_count": 3,
     "metadata": {},
     "output_type": "execute_result"
    }
   ],
   "source": [
    "Data = Data.replace('Male', 1)\n",
    "Data = Data.replace('Female', -1)\n",
    "Data"
   ]
  },
  {
   "cell_type": "code",
   "execution_count": 4,
   "metadata": {},
   "outputs": [],
   "source": [
    "X = Data.iloc[: ,: -1]\n",
    "#X\n",
    "y = Data.iloc[: ,-1:]\n",
    "#y"
   ]
  },
  {
   "cell_type": "code",
   "execution_count": 5,
   "metadata": {},
   "outputs": [],
   "source": [
    "X = X.values\n",
    "y = y.values"
   ]
  },
  {
   "cell_type": "code",
   "execution_count": 6,
   "metadata": {},
   "outputs": [],
   "source": [
    "def ista_solve_hot( A, d, la_array ):\n",
    "    # ista_solve_hot: Iterative soft-thresholding for multiple values of\n",
    "    # lambda with hot start for each case - the converged value for the previous\n",
    "    # value of lambda is used as an initial condition for the current lambda.\n",
    "    # this function solves the minimization problem\n",
    "    # Minimize |Ax-d|_2^2 + lambda*|x|_1 (Lasso regression)\n",
    "    # using iterative soft-thresholding.\n",
    "    max_iter = 10**4\n",
    "    tol = 10**(-3)\n",
    "    tau = 1/np.linalg.norm(A,2)**2\n",
    "    n = A.shape[1]\n",
    "    w = np.zeros((n,1))\n",
    "    num_lam = len(la_array)\n",
    "    X = np.zeros((n, num_lam))\n",
    "\n",
    "    for i, each_lambda in enumerate(la_array):\n",
    "        for j in range(max_iter):\n",
    "            z = w - tau*(A.T@(A@w-d))\n",
    "            w_old = w\n",
    "            w = np.sign(z) * np.clip(np.abs(z)-tau*each_lambda/2, 0, np.inf)\n",
    "            X[:, i:i+1] = w\n",
    "            if np.linalg.norm(w - w_old) < tol:\n",
    "                break\n",
    "\n",
    "    return X"
   ]
  },
  {
   "cell_type": "code",
   "execution_count": 7,
   "metadata": {},
   "outputs": [
    {
     "data": {
      "image/png": "[encoded data removed]",
      "text/plain": [
       "<Figure size 432x288 with 1 Axes>"
      ]
     },
     "metadata": {
      "needs_background": "light"
     },
     "output_type": "display_data"
    }
   ],
   "source": [
    "import numpy as np\n",
    "from scipy.io import loadmat\n",
    "import matplotlib.pyplot as plt \n",
    "from sklearn.svm import LinearSVC\n",
    "\n",
    "x_eval = X[:1000,:]\n",
    "y_eval  = y[:1000,:]\n",
    "\n",
    "x_train = X[1000:,:]\n",
    "y_train = y[1000:,:]\n",
    "\n",
    "n_eval = np.size(y_eval)\n",
    "n_train = np.size(y_train)\n",
    "\n",
    "plt.scatter(x_train[:,0],x_train[:,1], color=['c' if i==-1 else 'r' for i in y_train[:,0]])\n",
    "plt.title('training data')\n",
    "plt.show()"
   ]
  },
  {
   "cell_type": "code",
   "execution_count": 8,
   "metadata": {},
   "outputs": [
    {
     "data": {
      "image/png": "[encoded data removed]",
      "text/plain": [
       "<Figure size 432x288 with 1 Axes>"
      ]
     },
     "metadata": {
      "needs_background": "light"
     },
     "output_type": "display_data"
    }
   ],
   "source": [
    "plt.scatter(x_eval[:,0],x_eval[:,1], color=['c' if i==-1 else 'r' for i in y_eval[:,0]])\n",
    "plt.title('eval data true class')\n",
    "plt.show()"
   ]
  },
  {
   "cell_type": "code",
   "execution_count": 9,
   "metadata": {},
   "outputs": [
    {
     "data": {
      "image/png": "[encoded data removed]",
      "text/plain": [
       "<Figure size 432x288 with 1 Axes>"
      ]
     },
     "metadata": {
      "needs_background": "light"
     },
     "output_type": "display_data"
    },
    {
     "name": "stdout",
     "output_type": "stream",
     "text": [
      "classifier weight is\n",
      "[[-0.0288541 ]\n",
      " [ 0.05071584]\n",
      " [ 0.09615035]\n",
      " [ 0.57211291]\n",
      " [ 0.51774622]\n",
      " [ 0.51989364]\n",
      " [ 0.54946535]\n",
      " [-2.29150659]]\n"
     ]
    }
   ],
   "source": [
    "## least square classifier \n",
    "x_train_1 = np.hstack(( x_train, np.ones((n_train,1)) ))\n",
    "x_eval_1 = np.hstack(( x_eval, np.ones((n_eval,1)) ))\n",
    "\n",
    "w_opt = np.linalg.inv(x_train_1.T@x_train_1)@x_train_1.T@y_train  \n",
    "\n",
    "y_hat_outlier = np.sign(x_eval_1@w_opt)\n",
    "plt.scatter(x_eval[:,0],x_eval[:,1], color=['c' if i==-1 else 'r' for i in y_hat_outlier[:,0]])\n",
    "plt.title('predicted class on eval data')\n",
    "plt.show()\n",
    "\n",
    "print('classifier weight is')\n",
    "print(w_opt)"
   ]
  },
  {
   "cell_type": "code",
   "execution_count": 10,
   "metadata": {},
   "outputs": [
    {
     "data": {
      "image/png": "[encoded data removed]",
      "text/plain": [
       "<Figure size 432x288 with 1 Axes>"
      ]
     },
     "metadata": {
      "needs_background": "light"
     },
     "output_type": "display_data"
    },
    {
     "name": "stdout",
     "output_type": "stream",
     "text": [
      "Errors: 39\n"
     ]
    }
   ],
   "source": [
    "error_vec = [0 if i[0]==i[1] else 1 for i in np.hstack((y_hat_outlier, y_eval))]\n",
    "plt.scatter(x_eval[:,0],x_eval[:,1], color=['c' if i==0 else 'r' for i in error_vec])\n",
    "plt.title('errors')\n",
    "plt.show()\n",
    "\n",
    "print('Errors: '+ str(sum(error_vec)))"
   ]
  },
  {
   "cell_type": "code",
   "execution_count": 11,
   "metadata": {},
   "outputs": [
    {
     "name": "stdout",
     "output_type": "stream",
     "text": [
      "0 0.056\n",
      "1 0.056\n",
      "2 0.056\n",
      "3 0.056\n",
      "4 0.056\n",
      "5 0.056\n",
      "6 0.056\n",
      "7 0.056\n",
      "8 0.056\n",
      "9 0.052\n"
     ]
    }
   ],
   "source": [
    "lambda_value = np.logspace(-6,3,10)\n",
    "x_train_1 = np.hstack(( x_train, np.ones((n_train,1)) ))\n",
    "x_eval_1 = np.hstack(( x_eval, np.ones((n_eval,1)) ))\n",
    "for r in range(lambda_value.shape[0]):\n",
    "    w = ista_solve_hot(x_train_1,y_train,lambda_value)  \n",
    "    err =np.mean(np.sign(x_eval_1@w[:,r:r+1])!=y_eval)\n",
    "    print(r, err)"
   ]
  },
  {
   "cell_type": "code",
   "execution_count": 12,
   "metadata": {},
   "outputs": [
    {
     "data": {
      "image/png": "[encoded data removed]",
      "text/plain": [
       "<Figure size 432x288 with 1 Axes>"
      ]
     },
     "metadata": {
      "needs_background": "light"
     },
     "output_type": "display_data"
    },
    {
     "name": "stdout",
     "output_type": "stream",
     "text": [
      "classifier weight is\n",
      "[[-0.0288541 ]\n",
      " [ 0.05071584]\n",
      " [ 0.09615035]\n",
      " [ 0.57211291]\n",
      " [ 0.51774622]\n",
      " [ 0.51989364]\n",
      " [ 0.54946535]\n",
      " [-2.29150659]]\n"
     ]
    }
   ],
   "source": [
    "## LASSO classifier\n",
    "lambda_value = np.logspace(-6,3)\n",
    "\n",
    "x_train_1 = np.hstack(( x_train, np.ones((n_train,1)) ))\n",
    "x_eval_1 = np.hstack(( x_eval, np.ones((n_eval,1)) ))\n",
    " \n",
    "w = ista_solve_hot(x_train_1,y_train,lambda_value)  \n",
    "\n",
    "y_hat_outlier = np.sign(x_eval_1@w[:,0:0+1])\n",
    "plt.scatter(x_eval[:,0],x_eval[:,1], color=['c' if i==-1 else 'r' for i in y_hat_outlier[:,0]])\n",
    "plt.title('predicted class on eval data')\n",
    "plt.show()\n",
    "\n",
    "print('classifier weight is')\n",
    "print(w_opt)"
   ]
  },
  {
   "cell_type": "code",
   "execution_count": 13,
   "metadata": {},
   "outputs": [
    {
     "name": "stdout",
     "output_type": "stream",
     "text": [
      "0.05125000000000002\n"
     ]
    }
   ],
   "source": [
    "import numpy as np\n",
    "import scipy.io as sio\n",
    "err_sum=0\n",
    "for i in range(5):\n",
    "    for j in range(5):\n",
    "        if i==j:continue\n",
    "        test_idx_1=np.arange(i*1000,(i+1)*1000)\n",
    "        test_idx_2=np.arange(j*1000,(j+1)*1000)\n",
    "        train_idx=np.setdiff1d(np.arange(5000),test_idx_1)\n",
    "        train_idx=np.setdiff1d(train_idx,test_idx_2)\n",
    "        X_train,y_train=X[train_idx,:],y[train_idx,:]\n",
    "        X_test_1,y_test_1=X[test_idx_1,:],y[test_idx_1,:]\n",
    "        X_test_2,y_test_2=X[test_idx_2,:],y[test_idx_2,:]\n",
    "        min_err,min_r,min_w=np.inf,-1,None\n",
    "        w = np.linalg.inv(X_train.T@X_train)@X_train.T@y_train  \n",
    "        err_=np.mean(np.sign(X_test_1@w)!=y_test_1)\n",
    "        if err_<min_err:\n",
    "            min_err,min_r,min_w=err_,r,w\n",
    "        err_sum+=np.mean(np.sign(X_test_2@min_w)!=y_test_2)\n",
    "print(err_sum/5/4)"
   ]
  },
  {
   "cell_type": "code",
   "execution_count": 14,
   "metadata": {},
   "outputs": [
    {
     "data": {
      "image/png": "[encoded data removed]",
      "text/plain": [
       "<Figure size 432x288 with 1 Axes>"
      ]
     },
     "metadata": {
      "needs_background": "light"
     },
     "output_type": "display_data"
    },
    {
     "name": "stdout",
     "output_type": "stream",
     "text": [
      "Errors: 56\n"
     ]
    }
   ],
   "source": [
    "error_vec = [0 if i[0]==i[1] else 1 for i in np.hstack((y_hat_outlier, y_eval))]\n",
    "plt.scatter(x_eval[:,0],x_eval[:,1], color=['c' if i==0 else 'r' for i in error_vec])\n",
    "plt.title('errors')\n",
    "plt.show()\n",
    "\n",
    "print('Errors: '+ str(sum(error_vec)))"
   ]
  },
  {
   "cell_type": "code",
   "execution_count": 15,
   "metadata": {},
   "outputs": [
    {
     "name": "stdout",
     "output_type": "stream",
     "text": [
      "0.052900000000000016\n"
     ]
    }
   ],
   "source": [
    "import numpy as np\n",
    "import scipy.io as sio\n",
    "err_sum=0\n",
    "lambda_value = np.logspace(-6,3)\n",
    "for i in range(5):\n",
    "    for j in range(5):\n",
    "        if i==j:continue\n",
    "        test_idx_1=np.arange(i*1000,(i+1)*1000)\n",
    "        test_idx_2=np.arange(j*1000,(j+1)*1000)\n",
    "        train_idx=np.setdiff1d(np.arange(5000),test_idx_1)\n",
    "        train_idx=np.setdiff1d(train_idx,test_idx_2)\n",
    "        X_train,y_train=X[train_idx,:],y[train_idx,:]\n",
    "        X_test_1,y_test_1=X[test_idx_1,:],y[test_idx_1,:]\n",
    "        X_test_2,y_test_2=X[test_idx_2,:],y[test_idx_2,:]\n",
    "        min_err,min_r,min_w=np.inf,-1,None\n",
    "        for r in range(lambda_value.shape[0]):\n",
    "            w = ista_solve_hot(X_train,y_train,lambda_value)  \n",
    "            err_=np.mean(np.sign(X_test_1@w[:,r:r+1])!=y_test_1)\n",
    "            if err_<min_err:\n",
    "                min_err,min_r,min_w=err_,r,w[:,r:r+1]\n",
    "        err_sum+=np.mean(np.sign(X_test_2@min_w)!=y_test_2)\n",
    "        \n",
    "        \n",
    "print(err_sum/5/4)"
   ]
  },
  {
   "cell_type": "code",
   "execution_count": 105,
   "metadata": {},
   "outputs": [],
   "source": [
    "import numpy as np\n",
    "import matplotlib.pyplot as plt\n",
    "\n",
    "p = int(7) #features\n",
    "n = int(5001) #examples\n",
    "\n",
    "## generate training data\n",
    "Y1 = np.sign(np.sum(X**2,1)-.1).reshape((-1, 1))/2+.5\n",
    "Y2 = np.sign(5*X[:,[0]]**3-X[:,[1]])/2+.5\n",
    "Y = np.hstack((y, Y2))"
   ]
  },
  {
   "cell_type": "code",
   "execution_count": 106,
   "metadata": {},
   "outputs": [
    {
     "data": {
      "image/png": "[encoded data removed]",
      "text/plain": [
       "<Figure size 432x288 with 1 Axes>"
      ]
     },
     "metadata": {
      "needs_background": "light"
     },
     "output_type": "display_data"
    }
   ],
   "source": [
    "# Plot training data for first classification problem\n",
    "plt.scatter(X[:,0], X[:,1], c=Y1.flatten())\n",
    "plt.title('Labeled data, first classifier')\n",
    "plt.show()"
   ]
  },
  {
   "cell_type": "code",
   "execution_count": 107,
   "metadata": {},
   "outputs": [
    {
     "data": {
      "image/png": "[encoded data removed]",
      "text/plain": [
       "<Figure size 432x288 with 1 Axes>"
      ]
     },
     "metadata": {
      "needs_background": "light"
     },
     "output_type": "display_data"
    }
   ],
   "source": [
    "# Plot training data for second classification problem \n",
    "plt.scatter(X[:,0], X[:,1], c=Y2.flatten())\n",
    "plt.title('Labeled data, second classifier')\n",
    "plt.show()"
   ]
  },
  {
   "cell_type": "code",
   "execution_count": 108,
   "metadata": {},
   "outputs": [
    {
     "name": "stdout",
     "output_type": "stream",
     "text": [
      "0\n",
      "1\n",
      "2\n",
      "3\n",
      "4\n",
      "5\n",
      "6\n",
      "7\n",
      "8\n",
      "9\n"
     ]
    }
   ],
   "source": [
    "## Train NN\n",
    "Xb = np.hstack((np.ones((n,1)), X))\n",
    "q = np.shape(Y)[1] #number of classification problems\n",
    "M = 3 #number of hidden nodes\n",
    "\n",
    "## initial weights\n",
    "V = np.random.randn(M+1, q); \n",
    "W = np.random.randn(p+1, M);\n",
    "\n",
    "alpha = 0.1 #step size\n",
    "L = 10 #number of epochs\n",
    "\n",
    "def logsig(_x):\n",
    "    return 1/(1+np.exp(-_x))\n",
    "        \n",
    "for epoch in range(L):\n",
    "    ind = np.random.permutation(n)\n",
    "    for i in ind:\n",
    "        # Forward-propagate\n",
    "        H = logsig(np.hstack((np.ones((1,1)), Xb[[i],:]@W)))\n",
    "        Yhat = logsig(H@V)\n",
    "         # Backpropagate\n",
    "        delta = (Yhat-Y[[i],:])*Yhat*(1-Yhat)\n",
    "        Vnew = V-alpha*H.T@delta\n",
    "        gamma = delta@V[1:,:].T*H[:,1:]*(1-H[:,1:])\n",
    "        Wnew = W - alpha*Xb[[i],:].T@gamma\n",
    "        V = Vnew\n",
    "        W = Wnew\n",
    "    print(epoch)"
   ]
  },
  {
   "cell_type": "code",
   "execution_count": 109,
   "metadata": {},
   "outputs": [],
   "source": [
    "## Final predicted labels (on training data)\n",
    "H = logsig(np.hstack((np.ones((n,1)), Xb@W)))\n",
    "Yhat = logsig(H@V)"
   ]
  },
  {
   "cell_type": "code",
   "execution_count": 110,
   "metadata": {},
   "outputs": [
    {
     "data": {
      "image/png": "[encoded data removed]",
      "text/plain": [
       "<Figure size 432x288 with 1 Axes>"
      ]
     },
     "metadata": {
      "needs_background": "light"
     },
     "output_type": "display_data"
    }
   ],
   "source": [
    "plt.scatter(X[:,0], X[:,1], c=Yhat[:,0])\n",
    "plt.title('Predicted Labels, first classifier')\n",
    "plt.show()"
   ]
  },
  {
   "cell_type": "code",
   "execution_count": 111,
   "metadata": {},
   "outputs": [
    {
     "data": {
      "image/png": "[encoded data removed]",
      "text/plain": [
       "<Figure size 432x288 with 1 Axes>"
      ]
     },
     "metadata": {
      "needs_background": "light"
     },
     "output_type": "display_data"
    }
   ],
   "source": [
    "plt.scatter(X[:,0], X[:,1], c=Yhat[:,1])\n",
    "plt.title('Predicted Labels, second classifier')\n",
    "plt.show()"
   ]
  },
  {
   "cell_type": "code",
   "execution_count": 112,
   "metadata": {},
   "outputs": [
    {
     "name": "stdout",
     "output_type": "stream",
     "text": [
      "Errors, first classifier: 2724.0\n",
      "Errors, second classifier: 0.0\n"
     ]
    }
   ],
   "source": [
    "err_c1 = np.sum(abs(np.round(Yhat[:,0])-Y[:,0]))\n",
    "print('Errors, first classifier:', err_c1)\n",
    "\n",
    "err_c2 = np.sum(abs(np.round(Yhat[:,1])-Y[:,1]))\n",
    "print('Errors, second classifier:', err_c2)"
   ]
  },
  {
   "cell_type": "code",
   "execution_count": null,
   "metadata": {},
   "outputs": [],
   "source": []
  }
 ],
 "metadata": {
  "kernelspec": {
   "display_name": "Python 3",
   "language": "python",
   "name": "python3"
  },
  "language_info": {
   "codemirror_mode": {
    "name": "ipython",
    "version": 3
   },
   "file_extension": ".py",
   "mimetype": "text/x-python",
   "name": "python",
   "nbconvert_exporter": "python",
   "pygments_lexer": "ipython3",
   "version": "3.8.3"
  }
 },
 "nbformat": 4,
 "nbformat_minor": 4
}
